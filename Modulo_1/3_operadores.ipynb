{
 "cells": [
  {
   "cell_type": "markdown",
   "metadata": {},
   "source": [
    "# Operadores Aritméticos y de comparación"
   ]
  },
  {
   "cell_type": "markdown",
   "metadata": {},
   "source": [
    "|**Tipo**|**Operadores**|\n",
    "|------------|--------------------|\n",
    "|**Aritméticas**| Suma, Resta, Multiplicación, Módulo, División, Exponente, División entera|\n",
    "\n",
    "$$ x+2 $$\n",
    "$$ E= mc^2 $$\n",
    "\n",
    "\n",
    "Esto es una lista\n",
    "1. Primer item\n",
    "    - Subitem\n",
    "    - Subitem\n",
    "2. Segundo item\n"
   ]
  },
  {
   "cell_type": "code",
   "execution_count": 5,
   "metadata": {},
   "outputs": [
    {
     "data": {
      "text/plain": [
       "8"
      ]
     },
     "execution_count": 5,
     "metadata": {},
     "output_type": "execute_result"
    }
   ],
   "source": [
    "#este es un ejemplo de suma\n",
    "a = 5\n",
    "b = 3\n",
    "\n",
    "resultado = a + b \n",
    "resultado"
   ]
  },
  {
   "cell_type": "markdown",
   "metadata": {},
   "source": [
    "## Operación resta"
   ]
  },
  {
   "cell_type": "code",
   "execution_count": 4,
   "metadata": {},
   "outputs": [
    {
     "data": {
      "text/plain": [
       "2"
      ]
     },
     "execution_count": 4,
     "metadata": {},
     "output_type": "execute_result"
    }
   ],
   "source": [
    "#este es un ejemplo de resta\n",
    "a = 5\n",
    "b = 3\n",
    "resultado = a - b\n",
    "resultado"
   ]
  }
 ],
 "metadata": {
  "kernelspec": {
   "display_name": "Diplomado",
   "language": "python",
   "name": "python3"
  },
  "language_info": {
   "codemirror_mode": {
    "name": "ipython",
    "version": 3
   },
   "file_extension": ".py",
   "mimetype": "text/x-python",
   "name": "python",
   "nbconvert_exporter": "python",
   "pygments_lexer": "ipython3",
   "version": "3.10.14"
  }
 },
 "nbformat": 4,
 "nbformat_minor": 2
}
