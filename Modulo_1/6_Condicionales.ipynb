{
 "cells": [
  {
   "cell_type": "markdown",
   "metadata": {},
   "source": [
    "# Condicionales"
   ]
  },
  {
   "cell_type": "code",
   "execution_count": 1,
   "metadata": {},
   "outputs": [],
   "source": [
    "temperatura = 20\n",
    "\n",
    "if temperatura > 35:\n",
    "    print ('Aviso por alta temperatura')"
   ]
  },
  {
   "cell_type": "code",
   "execution_count": 2,
   "metadata": {},
   "outputs": [
    {
     "name": "stdout",
     "output_type": "stream",
     "text": [
      "Parametros normales\n"
     ]
    }
   ],
   "source": [
    "if temperatura > 35:\n",
    "    print('Alta temperatura')\n",
    "else:\n",
    "    print('Parametros normales')"
   ]
  },
  {
   "cell_type": "code",
   "execution_count": 6,
   "metadata": {},
   "outputs": [
    {
     "name": "stdout",
     "output_type": "stream",
     "text": [
      "Alerta roja\n"
     ]
    }
   ],
   "source": [
    "temperatura = 50\n",
    "\n",
    "if temperatura < 20:\n",
    "    if temperatura < 10:\n",
    "        print('Alerta Azul')\n",
    "    else:\n",
    "        print('Alerta verde')\n",
    "else:\n",
    "    if temperatura <= 30:\n",
    "        print('Alerta Naranja')\n",
    "    else:\n",
    "        print('Alerta roja')"
   ]
  },
  {
   "cell_type": "code",
   "execution_count": 8,
   "metadata": {},
   "outputs": [
    {
     "name": "stdout",
     "output_type": "stream",
     "text": [
      "Alerta roja\n"
     ]
    }
   ],
   "source": [
    "temperatura = 50\n",
    "\n",
    "if temperatura < 10:\n",
    "    if temperatura < 10:\n",
    "        print('Alerta Azul')\n",
    "    else:\n",
    "        print('Alerta verde')\n",
    "elif temperatura <= 30:\n",
    "    print('Alerta Naranja')\n",
    "else:\n",
    "    print('Alerta roja')"
   ]
  }
 ],
 "metadata": {
  "kernelspec": {
   "display_name": "Diplomado",
   "language": "python",
   "name": "python3"
  },
  "language_info": {
   "codemirror_mode": {
    "name": "ipython",
    "version": 3
   },
   "file_extension": ".py",
   "mimetype": "text/x-python",
   "name": "python",
   "nbconvert_exporter": "python",
   "pygments_lexer": "ipython3",
   "version": "3.10.14"
  }
 },
 "nbformat": 4,
 "nbformat_minor": 2
}
