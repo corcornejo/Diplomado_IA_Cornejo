{
 "cells": [
  {
   "cell_type": "markdown",
   "metadata": {},
   "source": [
    "# Diccionarios: Almacenamiento de Datos en Pares Clave-Valor"
   ]
  },
  {
   "cell_type": "markdown",
   "metadata": {},
   "source": [
    "Un diccionario es un objeto que contiene palabras, y cada palabra tiene asociado un significado. Haciendo paralelismo, diríamos que en python un diccionario es también un objeot indexado por clave (las palabras) que tienen asociados unos valores (los significados)"
   ]
  },
  {
   "cell_type": "markdown",
   "metadata": {},
   "source": [
    "Los diccionarios en Python tienen las siguientes características:\n",
    "\n",
    "- Mantienen el orden en el que se insertan las claves.\n",
    "\n",
    "- Son mutables, con lo que admiten añadir, borrar y modificar sus elementos.\n",
    "\n",
    "- Las claves deben ser únicas. A menudo se utilizan las cadenas de texto como claves, pero en realidad podría ser cualquier tipo de datos inmutable: enteros, flotantes, tuplas (entre otros).\n",
    "\n",
    "- Tienen un acceso muy rápido a sus elementos, debido a la forma en la que están implementados internamente.\n"
   ]
  },
  {
   "cell_type": "code",
   "execution_count": 2,
   "metadata": {},
   "outputs": [],
   "source": [
    "diccionario_vacio = {}"
   ]
  },
  {
   "cell_type": "markdown",
   "metadata": {},
   "source": [
    "### Diccionario con Pares Clave-Valor"
   ]
  },
  {
   "cell_type": "code",
   "execution_count": 3,
   "metadata": {},
   "outputs": [],
   "source": [
    "diccionario = {\n",
    "    \"nombre\":'Juan',\n",
    "    \"edad\": 30,\n",
    "    \"ciudad\":'Mexico'\n",
    "}"
   ]
  },
  {
   "cell_type": "code",
   "execution_count": 4,
   "metadata": {},
   "outputs": [],
   "source": [
    "diccionario"
   ]
  },
  {
   "cell_type": "code",
   "execution_count": null,
   "metadata": {},
   "outputs": [],
   "source": [
    "population = {\n",
    "    2015: 2_135_000,\n",
    "    2016: 2_154_000,\n",
    "    2017: 2_177_000,\n",
    "    2018: 2_203_999,\n",
    "    2019: 2_566_000\n",
    "}"
   ]
  },
  {
   "cell_type": "code",
   "execution_count": null,
   "metadata": {},
   "outputs": [],
   "source": [
    "diccionario = {\n",
    "    \"nombre\":'Juan',\n",
    "    \"edad\": 30,\n",
    "    \"ciudad\":'CDMX'\n",
    "    \"hijos\":['Juan','Pedro','Pablo'],\n",
    "    \"edades_hijos\":{\"Juan\":15,\"Pedro\":18, \"Pablo\":20}\n",
    "}"
   ]
  },
  {
   "cell_type": "markdown",
   "metadata": {},
   "source": [
    "Para acceder a los valores de un diccionario utilizando sus claves."
   ]
  },
  {
   "cell_type": "code",
   "execution_count": null,
   "metadata": {},
   "outputs": [],
   "source": [
    "nombre = diccionario[\"nombre\"]\n",
    "nombre"
   ]
  },
  {
   "cell_type": "code",
   "execution_count": null,
   "metadata": {},
   "outputs": [],
   "source": [
    "edad = diccionario.get(\"edad\")\n",
    "edad"
   ]
  },
  {
   "cell_type": "code",
   "execution_count": null,
   "metadata": {},
   "outputs": [],
   "source": [
    "edades_hijo = diccionario[\"edades_hijos\"]['Pedro'] #o podemos poner la posicion 1\n"
   ]
  },
  {
   "cell_type": "markdown",
   "metadata": {},
   "source": [
    "## Adición y modificación de elementos"
   ]
  },
  {
   "cell_type": "code",
   "execution_count": null,
   "metadata": {},
   "outputs": [],
   "source": [
    "# Agregar un nuevo par clave-valor\n",
    "diccionario[\"profesion\"] = \"Ingeniero\" #si no existe se agrega y si ya existe se modifica\n",
    "\n",
    "\n",
    "# Modificar un valor existente\n",
    "diccionario[\"profesion\"] = 'licenciado'\n"
   ]
  },
  {
   "cell_type": "markdown",
   "metadata": {},
   "source": [
    "## Eliminación de Elementos\n",
    "\n",
    "- `del diccionario[clave]` : Elimina el par clave-valor especificado.\n",
    "- `diccionario.pop(clave)` : Elimina el par clave-valor y devuelve el valor.\n"
   ]
  },
  {
   "cell_type": "code",
   "execution_count": null,
   "metadata": {},
   "outputs": [],
   "source": [
    "# Eliminar un par clave-valor\n",
    "del diccionario  [\"ciudad\"]\n",
    "print(diccionario)\n",
    "\n"
   ]
  },
  {
   "cell_type": "code",
   "execution_count": null,
   "metadata": {},
   "outputs": [],
   "source": [
    "# Eliminar y devolver un valor\n",
    "profesion = diccionario.pop(\"profesion\")\n",
    "print(profesion)  \n",
    "print(diccionario)"
   ]
  },
  {
   "cell_type": "markdown",
   "metadata": {},
   "source": [
    "## Métodos de Diccionarios\n",
    "\n",
    "- `keys()` : Devuelve una vista de las claves del diccionario.\n",
    "- `values()` : Devuelve una vista de los valores del diccionario.\n",
    "- `items()` : Devuelve una vista de los pares clave-valor del diccionario.\n"
   ]
  },
  {
   "cell_type": "code",
   "execution_count": null,
   "metadata": {},
   "outputs": [],
   "source": [
    "# Obtener todas las claves o keys\n",
    "claves = diccionario.keys()\n",
    "print(claves)\n",
    "\n",
    "# Obtener todos los valores\n",
    "valores = diccionario.values()\n",
    "print(valores)\n",
    "\n",
    "# Obtener todos los pares clave-valor\n",
    "items = diccionario.items()\n",
    "print(items)"
   ]
  },
  {
   "cell_type": "markdown",
   "metadata": {},
   "source": [
    "## Borrar elementos"
   ]
  },
  {
   "cell_type": "code",
   "execution_count": 7,
   "metadata": {},
   "outputs": [],
   "source": [
    "rae = {\n",
    "    'bifronte': 'De dos frentes o dos caras',\n",
    "    'anarcoide': 'Que tiende al desorden',\n",
    "    'montuvio': 'Campesino de la costa'\n",
    "}"
   ]
  },
  {
   "cell_type": "code",
   "execution_count": 8,
   "metadata": {},
   "outputs": [],
   "source": [
    "del rae['montuvio']"
   ]
  },
  {
   "cell_type": "code",
   "execution_count": null,
   "metadata": {},
   "outputs": [],
   "source": [
    "rae.clear()"
   ]
  },
  {
   "cell_type": "markdown",
   "metadata": {},
   "source": [
    "## Combinar diccionarios"
   ]
  },
  {
   "cell_type": "markdown",
   "metadata": {},
   "source": [
    "Dados dos (o más) diccionarios, es posible «mezclarlos» para obtener una combinación de los mismos. Esta combinación se basa en dos premisas:\n",
    "\n",
    "- Si la clave no existe, se añade con su valor.\n",
    "\n",
    "- Si la clave ya existe, se añade con el valor del «último» diccionario en la mezcla. "
   ]
  },
  {
   "cell_type": "code",
   "execution_count": 10,
   "metadata": {},
   "outputs": [],
   "source": [
    "rae1 = {\n",
    "    'bifronte': 'De dos frentes o dos caras',\n",
    "    'enjuiciar': 'Someter una cuestión a examen, discusión y juicio'\n",
    "}\n",
    "rae2 = {\n",
    "    'anarcoide': 'Que tiende al desorden',\n",
    "    'montuvio': 'Campesino de la costa',\n",
    "    'enjuiciar': 'Instruir, juzgar o sentenciar una causa'\n",
    "}"
   ]
  },
  {
   "cell_type": "code",
   "execution_count": 11,
   "metadata": {},
   "outputs": [
    {
     "data": {
      "text/plain": [
       "{'bifronte': 'De dos frentes o dos caras',\n",
       " 'enjuiciar': 'Instruir, juzgar o sentenciar una causa',\n",
       " 'anarcoide': 'Que tiende al desorden',\n",
       " 'montuvio': 'Campesino de la costa'}"
      ]
     },
     "execution_count": 11,
     "metadata": {},
     "output_type": "execute_result"
    }
   ],
   "source": [
    "#mezclamos diccionarios\n",
    "\n",
    "rae1 | rae2"
   ]
  },
  {
   "cell_type": "markdown",
   "metadata": {},
   "source": [
    "## Copias"
   ]
  },
  {
   "cell_type": "markdown",
   "metadata": {},
   "source": [
    "Al igual que ocurría con las listas, si hacemos un cambio en un diccionario, se verá reflejado en todas las variables que hagan referencia al mismo. Esto se deriva de su propiedad de ser mutable."
   ]
  },
  {
   "cell_type": "code",
   "execution_count": null,
   "metadata": {},
   "outputs": [],
   "source": [
    "original_rae = {\n",
    "    'bifronte': 'De dos frentes o dos caras',\n",
    "    'anarcoide': 'Que tiende al desorden',\n",
    "    'montuvio': 'Campesino de la costa'\n",
    "}\n",
    "copy_rae = original_rae.copy() #debemos especificar que es una copia para evitar problemas\n",
    "\n",
    "original_rae['bifronte'] = 'bla bla bla'"
   ]
  },
  {
   "cell_type": "code",
   "execution_count": null,
   "metadata": {},
   "outputs": [],
   "source": [
    "#al ser de un tipo mutable se puede modificar\n",
    "original_rae\n"
   ]
  },
  {
   "cell_type": "markdown",
   "metadata": {},
   "source": [
    "# Ejercicios"
   ]
  },
  {
   "cell_type": "markdown",
   "metadata": {},
   "source": [
    "1. Crea un diccionario con información sobre un libro (título, autor, año de publicación).\n",
    "2. Agrega una nueva clave-valor para el género del libro.\n",
    "3. Modifica el año de publicación del libro.\n",
    "4. Elimina la clave del género."
   ]
  },
  {
   "cell_type": "code",
   "execution_count": null,
   "metadata": {},
   "outputs": [],
   "source": [
    "diccionario_ej = {\n",
    "    'Tittle': 'El despertar',\n",
    "    'Autor': 'Miguel Cornejo',\n",
    "    'Año'  : 2023\n",
    "\n",
    "}"
   ]
  },
  {
   "cell_type": "code",
   "execution_count": null,
   "metadata": {},
   "outputs": [],
   "source": [
    "diccionario_ej [ 'Género'] = 'suspenso'"
   ]
  },
  {
   "cell_type": "code",
   "execution_count": null,
   "metadata": {},
   "outputs": [],
   "source": [
    "diccionario_ej['Año']= '2024'"
   ]
  },
  {
   "cell_type": "code",
   "execution_count": null,
   "metadata": {},
   "outputs": [],
   "source": [
    "del diccionario_ej['Género']"
   ]
  },
  {
   "cell_type": "code",
   "execution_count": null,
   "metadata": {},
   "outputs": [],
   "source": [
    "import requests\n",
    "\n",
    "def get_pokemon_info(pokemon_name):\n",
    "#url de consulte\n",
    "    url = f\"https://pokeapi.co/api/v2/pokemon/{pokemon_name.lower()}\" \n",
    "    response = requests.get(url)\n",
    "    \n",
    "    if response.status_code == 200:#sigmifica que todo salio bien\n",
    "        data = response.json() #leemos respuesta en formato json\n",
    "        return {\n",
    "            'name': data['name'],\n",
    "            'id': data['id'],\n",
    "            'height': data['height'],\n",
    "            'weight': data['weight'],\n",
    "            'types': [type_info['type']['name'] for type_info in data['types']],\n",
    "            'abilities': [ability['ability']['name'] for ability in data['abilities']]\n",
    "        }\n",
    "    else:\n",
    "        return None\n",
    "\n",
    "pokemon_name = input(\"Enter the name of the Pokémon: \") #pokemon que deseamos consultar\n",
    "pokemon_info = get_pokemon_info(pokemon_name)\n",
    "\n",
    "if pokemon_info: #formato fprint\n",
    "    print(f\"Name: {pokemon_info['name']}\")\n",
    "    print(f\"ID: {pokemon_info['id']}\")\n",
    "    print(f\"Height: {pokemon_info['height']}\")\n",
    "    print(f\"Weight: {pokemon_info['weight']}\")\n",
    "    print(f\"Types: {', '.join(pokemon_info['types'])}\")\n",
    "    print(f\"Abilities: {', '.join(pokemon_info['abilities'])}\")\n",
    "else:\n",
    "    print(\"Pokémon not found.\")"
   ]
  },
  {
   "cell_type": "code",
   "execution_count": null,
   "metadata": {},
   "outputs": [],
   "source": []
  },
  {
   "cell_type": "markdown",
   "metadata": {},
   "source": []
  }
 ],
 "metadata": {
  "kernelspec": {
   "display_name": "Diplomado",
   "language": "python",
   "name": "python3"
  },
  "language_info": {
   "codemirror_mode": {
    "name": "ipython",
    "version": 3
   },
   "file_extension": ".py",
   "mimetype": "text/x-python",
   "name": "python",
   "nbconvert_exporter": "python",
   "pygments_lexer": "ipython3",
   "version": "3.10.14"
  }
 },
 "nbformat": 4,
 "nbformat_minor": 2
}
