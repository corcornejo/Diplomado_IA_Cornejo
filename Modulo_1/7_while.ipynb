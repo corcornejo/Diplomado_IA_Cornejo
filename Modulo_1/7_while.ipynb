{
 "cells": [
  {
   "cell_type": "markdown",
   "metadata": {},
   "source": [
    "# While"
   ]
  },
  {
   "cell_type": "code",
   "execution_count": 1,
   "metadata": {},
   "outputs": [],
   "source": [
    "stop_word = 's'\n",
    "MAX_rep = 3\n",
    "n_rep = 0\n",
    "while stop_word =='s':\n",
    "    print('hola')\n",
    "    stop_word = input('quiere otro saludo? [s,n]')\n",
    "    \n",
    "print('que tenga un buen dia')\n"
   ]
  }
 ],
 "metadata": {
  "kernelspec": {
   "display_name": "Diplomado",
   "language": "python",
   "name": "python3"
  },
  "language_info": {
   "codemirror_mode": {
    "name": "ipython",
    "version": 3
   },
   "file_extension": ".py",
   "mimetype": "text/x-python",
   "name": "python",
   "nbconvert_exporter": "python",
   "pygments_lexer": "ipython3",
   "version": "3.10.14"
  }
 },
 "nbformat": 4,
 "nbformat_minor": 2
}
